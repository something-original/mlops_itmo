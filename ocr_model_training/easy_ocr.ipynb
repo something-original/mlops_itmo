{
  "cells": [
    {
      "cell_type": "markdown",
      "metadata": {
        "id": "MPx9lddg6DQK"
      },
      "source": [
        "# Обучение EasyOCR"
      ]
    },
    {
      "cell_type": "code",
      "execution_count": 2,
      "metadata": {
        "id": "rNSRndKeyYcV"
      },
      "outputs": [],
      "source": [
        "import os\n",
        "from tqdm import tqdm\n",
        "import shutil\n",
        "import wget\n",
        "import yaml\n",
        "import wget\n",
        "import subprocess\n",
        "import pandas as pd\n",
        "import zipfile\n",
        "from pathlib import Path"
      ]
    },
    {
      "cell_type": "markdown",
      "metadata": {
        "id": "t4pK6jS_lK26"
      },
      "source": [
        "### Обучение"
      ]
    },
    {
      "cell_type": "markdown",
      "metadata": {},
      "source": [
        "Разбиваем имеющийся датасет на train, test, val"
      ]
    },
    {
      "cell_type": "code",
      "execution_count": 3,
      "metadata": {},
      "outputs": [],
      "source": [
        "if 'dataset.zip' not in os.listdir():\n",
        "    wget.download('https://huggingface.co/datasets/smthrgnl/ocr_cyrillic_english/resolve/main/dataset.zip')\n",
        "\n",
        "if 'dataset' not in os.listdir():\n",
        "    os.mkdir('dataset')\n",
        "\n",
        "    with zipfile.ZipFile('dataset.zip') as zip_ref:\n",
        "        for file in tqdm(zip_ref.infolist(), desc='Extracting files'):\n",
        "            zip_ref.extract(file, 'dataset')"
      ]
    },
    {
      "cell_type": "code",
      "execution_count": 4,
      "metadata": {},
      "outputs": [],
      "source": [
        "def split_images(labels_file_path, image_folder_path, ranges):\n",
        "\n",
        "    labels_df = pd.read_csv(labels_file_path, sep=';')\n",
        "\n",
        "    for dir in ['train', 'val', 'test_']:\n",
        "        images_dir = f'./{dir}/images'\n",
        "        if os.path.exists(images_dir):\n",
        "            shutil.rmtree(images_dir)\n",
        "        os.makedirs(images_dir)\n",
        "\n",
        "    for i, (start, end) in enumerate(ranges):\n",
        "\n",
        "        start_index = start\n",
        "        end_index = end\n",
        "        if i == 0:\n",
        "            path = 'train/images'\n",
        "        if i == 1:\n",
        "            path = 'val/images'\n",
        "        if i == 2:\n",
        "            path = 'test_/images'\n",
        "\n",
        "        output_file = f'{path}/labels.csv'\n",
        "        labels_part = labels_df.iloc[start:end]\n",
        "        labels_part.to_csv(output_file, sep=',', index=False)\n",
        "        print(f'Written lines {start} to {end} to {output_file}')\n",
        "\n",
        "        for i in tqdm(range(start_index, end_index)):\n",
        "\n",
        "            img_filename = labels_df['filename'].iloc[i]\n",
        "            src_file = os.path.join(image_folder_path, img_filename)\n",
        "            dest_file = os.path.join(path, img_filename)\n",
        "            shutil.copy2(src_file, dest_file)"
      ]
    },
    {
      "cell_type": "code",
      "execution_count": 5,
      "metadata": {},
      "outputs": [
        {
          "name": "stdout",
          "output_type": "stream",
          "text": [
            "Written lines 0 to 30000 to train/images/labels.csv\n"
          ]
        },
        {
          "name": "stderr",
          "output_type": "stream",
          "text": [
            "100%|██████████| 30000/30000 [00:08<00:00, 3378.11it/s]\n"
          ]
        },
        {
          "name": "stdout",
          "output_type": "stream",
          "text": [
            "Written lines 30000 to 40000 to val/images/labels.csv\n"
          ]
        },
        {
          "name": "stderr",
          "output_type": "stream",
          "text": [
            "100%|██████████| 10000/10000 [00:02<00:00, 3393.55it/s]\n"
          ]
        },
        {
          "name": "stdout",
          "output_type": "stream",
          "text": [
            "Written lines 40000 to 50000 to test_/images/labels.csv\n"
          ]
        },
        {
          "name": "stderr",
          "output_type": "stream",
          "text": [
            "100%|██████████| 10000/10000 [00:02<00:00, 3436.62it/s]\n"
          ]
        }
      ],
      "source": [
        "labels_file = 'dataset/labels.csv'\n",
        "images_path = 'dataset/images'\n",
        "\n",
        "#train range, val range, test range\n",
        "line_ranges = [(0, 30000), (30000, 40000), (40000, 50000)] \n",
        "split_dataset = True\n",
        "if split_dataset:\n",
        "  split_images(labels_file, images_path, line_ranges)"
      ]
    },
    {
      "cell_type": "markdown",
      "metadata": {
        "id": "pkjd1pXGxkyu"
      },
      "source": [
        "Клонируем библиотеку и копируем датасет в нужные директории"
      ]
    },
    {
      "cell_type": "code",
      "execution_count": 6,
      "metadata": {
        "id": "xsVpBZBgengy"
      },
      "outputs": [],
      "source": [
        "if 'EasyOCR' not in os.listdir():\n",
        "  subprocess.run(['git', 'clone', 'https://github.com/something-original/EasyOCR'])\n",
        "\n",
        "inside_path = './EasyOCR/trainer/all_data'\n",
        "\n",
        "if 'train' in os.listdir(inside_path):\n",
        "  shutil.rmtree(f'{inside_path}/train')\n",
        "  shutil.move('./train', './EasyOCR/trainer/all_data', copy_function=shutil.copy2)\n",
        "\n",
        "if 'val' in os.listdir(inside_path):\n",
        "  shutil.rmtree(f'{inside_path}/val')\n",
        "  shutil.move('./val', './EasyOCR/trainer/all_data', copy_function=shutil.copy2)"
      ]
    },
    {
      "cell_type": "markdown",
      "metadata": {
        "id": "dvlOcSWnxkyv"
      },
      "source": [
        "Загружаем предобученный чекпоинт"
      ]
    },
    {
      "cell_type": "code",
      "execution_count": 7,
      "metadata": {
        "id": "6DHEX_V5xkyv"
      },
      "outputs": [],
      "source": [
        "if 'cyrillic_g2.pth' not in os.listdir():\n",
        "  wget.download('https://huggingface.co/smthrgnl/easy_ocr/blob/main/cyrillic_g2.pth')\n",
        "if 'model' not in os.listdir('EasyOCR'):\n",
        "  os.makedirs('EasyOCR/model')\n",
        "  shutil.move('./cyrillic_g2.pth', 'EasyOCR/model')"
      ]
    },
    {
      "cell_type": "markdown",
      "metadata": {
        "id": "C8p57S2txkyv"
      },
      "source": [
        "Настраиваем параметры"
      ]
    },
    {
      "cell_type": "code",
      "execution_count": 8,
      "metadata": {
        "id": "J7YXW1wDxkyv"
      },
      "outputs": [
        {
          "name": "stderr",
          "output_type": "stream",
          "text": [
            "<>:1: SyntaxWarning: invalid escape sequence '\\$'\n",
            "<>:1: SyntaxWarning: invalid escape sequence '\\$'\n",
            "C:\\Users\\coolg\\AppData\\Local\\Temp\\ipykernel_19884\\2532774792.py:1: SyntaxWarning: invalid escape sequence '\\$'\n",
            "  symbols = '.,?!:;/%-№()«»\\$_@' + '\\'' + '\\\"'\n"
          ]
        }
      ],
      "source": [
        "symbols = '.,?!:;/%-№()«»\\$_@' + '\\'' + '\\\"'"
      ]
    },
    {
      "cell_type": "code",
      "execution_count": 9,
      "metadata": {
        "id": "ob9j6Awrxkyv"
      },
      "outputs": [],
      "source": [
        "root_path = Path(os.getcwd())\n",
        "trainer_path = 'EasyOCR\\\\trainer\\\\'\n",
        "pth_path = 'EasyOCR\\\\model'\n",
        "\n",
        "train_path = os.path.join(root_path, trainer_path, 'all_data\\\\train\\\\images')\n",
        "val_path = os.path.join(root_path, trainer_path, 'all_data\\\\val\\\\images')\n",
        "checkpoint_path = os.path.join(root_path, pth_path, 'cyrillic_g2.pth')\n",
        "\n",
        "params = {\n",
        "  'number': '0123456789',\n",
        "  'symbol': symbols,\n",
        "  'lang_char': 'ABCDEFGHIJKLMNOPQRSTUVWXYZabcdefghijklmnopqrstuvwxyzАБВГДЕЁЖЗИЙКЛМНОПРСТУФХЦЧШЩЪЫЬЭЮЯабвгдеёжзийклмнопрстуфхцчшщъыьэюя',\n",
        "  'experiment_name': 'fmd',\n",
        "  'train_data': train_path,\n",
        "  'valid_data': val_path,\n",
        "  'manualSeed': 1111,\n",
        "  'workers': 6,\n",
        "  'batch_size': 64, #32\n",
        "  'num_iter': 30000,\n",
        "  'valInterval': 200,\n",
        "  'saved_model': checkpoint_path,\n",
        "  'FT': True,\n",
        "  'optim': False, # значение по умолчанию - Adadelta\n",
        "  'lr': 1.,\n",
        "  'beta1': 0.9,\n",
        "  'rho': 0.95,\n",
        "  'eps': 0.00000001,\n",
        "  'grad_clip': 5,\n",
        "\n",
        "  'select_data': 'train', # это папка dataset в train_data\n",
        "  'batch_ratio': '1',\n",
        "  'total_data_usage_ratio': 1.0,\n",
        "  'batch_max_length': 68,\n",
        "  'imgH': 64,\n",
        "  'imgW': 600,\n",
        "  'rgb': False,\n",
        "  'contrast_adjust': False,\n",
        "  'sensitive': True,\n",
        "  'PAD': True,\n",
        "  'contrast_adjust': 0.0,\n",
        "  'data_filtering_off': False,\n",
        "\n",
        "  'Transformation': 'None',\n",
        "  'FeatureExtraction': 'VGG',\n",
        "  'SequenceModeling': 'BiLSTM',\n",
        "  'Prediction': 'CTC',\n",
        "  'num_fiducial': 20,\n",
        "  'input_channel': 1,\n",
        "  'output_channel': 256,\n",
        "  'hidden_size': 256,\n",
        "  'decode': 'greedy',\n",
        "  'new_prediction': False,\n",
        "  'freeze_FeatureFxtraction': False,\n",
        "  'freeze_SequenceModeling': False\n",
        "}"
      ]
    },
    {
      "cell_type": "code",
      "execution_count": 10,
      "metadata": {
        "id": "BWI9agYmxkyv"
      },
      "outputs": [],
      "source": [
        "with open('EasyOCR/trainer/config_files/custom_data_train.yaml', 'w') as file:\n",
        "    yaml.dump(params, file)"
      ]
    },
    {
      "cell_type": "markdown",
      "metadata": {
        "id": "IRKJC1zUzhkk"
      },
      "source": [
        "#### Запуск обучения"
      ]
    },
    {
      "cell_type": "code",
      "execution_count": 11,
      "metadata": {
        "id": "E7SOasnaxkyw"
      },
      "outputs": [],
      "source": [
        "import sys\n",
        "\n",
        "sys.path.insert(0, './EasyOCR/trainer')"
      ]
    },
    {
      "cell_type": "code",
      "execution_count": 12,
      "metadata": {
        "id": "xFHA72q5egKS"
      },
      "outputs": [],
      "source": [
        "import os\n",
        "import torch.backends.cudnn as cudnn\n",
        "import yaml\n",
        "from train import train\n",
        "from utils import AttrDict\n",
        "import pandas as pd\n",
        "\n",
        "cudnn.benchmark = True\n",
        "cudnn.deterministic = False\n",
        "\n",
        "def get_config(file_path):\n",
        "    with open(file_path, 'r', encoding=\"utf8\") as stream:\n",
        "        opt = yaml.safe_load(stream)\n",
        "    opt = AttrDict(opt)\n",
        "    if opt.lang_char == 'None':\n",
        "        characters = ''\n",
        "        for data in opt['select_data'].split('-'):\n",
        "            csv_path = os.path.join(opt['train_data'], data, 'labels.csv')\n",
        "            df = pd.read_csv(csv_path, sep='^([^,]+),', engine='python', usecols=['filename', 'words'], keep_default_na=False)\n",
        "            all_char = ''.join(df['words'])\n",
        "            characters += ''.join(set(all_char))\n",
        "        characters = sorted(set(characters))\n",
        "        opt.character= ''.join(characters)\n",
        "    else:\n",
        "        opt.character = opt.number + opt.symbol + opt.lang_char\n",
        "    os.makedirs(f'./saved_models/{opt.experiment_name}', exist_ok=True)\n",
        "    return opt\n"
      ]
    },
    {
      "cell_type": "code",
      "execution_count": null,
      "metadata": {
        "colab": {
          "base_uri": "https://localhost:8080/",
          "height": 452
        },
        "id": "Lkgozowuxkyw",
        "outputId": "b232af1c-c350-466a-d1f9-073fa8ef5e61"
      },
      "outputs": [
        {
          "name": "stdout",
          "output_type": "stream",
          "text": [
            "Filtering the images containing characters which are not in opt.character\n",
            "Filtering the images whose label is longer than opt.batch_max_length\n",
            "--------------------------------------------------------------------------------\n",
            "dataset_root: d:\\itmo\\mlops_itmo\\ocr_model_training\\EasyOCR\\trainer\\all_data\\train\\images\n",
            "opt.select_data: ['train']\n",
            "opt.batch_ratio: ['1']\n",
            "--------------------------------------------------------------------------------\n",
            "dataset_root:    d:\\itmo\\mlops_itmo\\ocr_model_training\\EasyOCR\\trainer\\all_data\\train\\images\t dataset: train\n",
            "d:\\itmo\\mlops_itmo\\ocr_model_training\\EasyOCR\\trainer\\all_data\\train\\images/\n",
            "sub-directory:\t/.\t num samples: 30000\n",
            "num total samples of train: 30000 x 1.0 (total_data_usage_ratio) = 30000\n",
            "num samples of train per batch: 64 x 1.0 (batch_ratio) = 64\n"
          ]
        }
      ],
      "source": [
        "#Запускаем обучение\n",
        "opt = get_config(\"EasyOCR/trainer/config_files/custom_data_train.yaml\")\n",
        "train(opt, amp=False)"
      ]
    },
    {
      "cell_type": "code",
      "execution_count": null,
      "metadata": {},
      "outputs": [],
      "source": []
    }
  ],
  "metadata": {
    "colab": {
      "provenance": []
    },
    "kernelspec": {
      "display_name": "hw-2-_-svfkea-py3.12",
      "language": "python",
      "name": "python3"
    },
    "language_info": {
      "codemirror_mode": {
        "name": "ipython",
        "version": 3
      },
      "file_extension": ".py",
      "mimetype": "text/x-python",
      "name": "python",
      "nbconvert_exporter": "python",
      "pygments_lexer": "ipython3",
      "version": "3.12.10"
    }
  },
  "nbformat": 4,
  "nbformat_minor": 0
}
