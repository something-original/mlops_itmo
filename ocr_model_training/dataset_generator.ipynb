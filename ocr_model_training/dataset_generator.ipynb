{
  "cells": [
    {
      "cell_type": "markdown",
      "metadata": {
        "id": "MPx9lddg6DQK"
      },
      "source": [
        "# Генерация датасета для задач OCR"
      ]
    },
    {
      "cell_type": "markdown",
      "metadata": {
        "id": "TwsVewT46Px1"
      },
      "source": [
        "### Подготовка"
      ]
    },
    {
      "cell_type": "code",
      "execution_count": 1,
      "metadata": {},
      "outputs": [],
      "source": [
        "colab = False"
      ]
    },
    {
      "cell_type": "code",
      "execution_count": null,
      "metadata": {
        "colab": {
          "base_uri": "https://localhost:8080/"
        },
        "collapsed": true,
        "id": "-7A-d5yBxkyo",
        "outputId": "98ceb869-fde3-4401-a714-3fe70a487d0a"
      },
      "outputs": [],
      "source": [
        "if colab:\n",
        "    !pip install requests\n",
        "    !pip install random_word\n",
        "    !pip install tqdm\n",
        "    !pip install streamlit>=1.0.0\n",
        "    !pip install wandb>=0.10.31\n",
        "    !pip install matplotlib>=3.1.0\n",
        "    !pip install defusedxml\n",
        "    !pip install opencv-python-headless\n",
        "    !pip install anyascii\n",
        "    !pip install ipykernel==6.29.5\n",
        "    !pip install pandas\n",
        "    !pip install wget\n",
        "    !pip install pyyaml\n",
        "    !pip install natsort"
      ]
    },
    {
      "cell_type": "code",
      "execution_count": null,
      "metadata": {
        "id": "rNSRndKeyYcV"
      },
      "outputs": [],
      "source": [
        "import os\n",
        "import pandas as pd\n",
        "from tqdm import tqdm\n",
        "import random\n",
        "from PIL import Image, ImageDraw, ImageFont\n",
        "from random_word import RandomWords\n",
        "import string\n",
        "import shutil\n",
        "import wget\n",
        "import zipfile\n",
        "import yaml\n",
        "import wget\n",
        "import subprocess"
      ]
    },
    {
      "cell_type": "markdown",
      "metadata": {
        "id": "X9rdM2EAYaY0"
      },
      "source": [
        "#### Загружаем датасет с Hugging Face и распаковываем"
      ]
    },
    {
      "cell_type": "markdown",
      "metadata": {
        "id": "HCH17RFdxkyq"
      },
      "source": [
        "Если нужно перегенерировать датасет, в ячейке ниже должно быть True. В таком случае загружаем кириллический датасет с HF и дополняем его своей синтетикой. Иначе загружаем готовый датасет со всеми необходимыми символами"
      ]
    },
    {
      "cell_type": "code",
      "execution_count": null,
      "metadata": {
        "id": "jLJrtfcYxkyq"
      },
      "outputs": [],
      "source": [
        "generate_dataset = True"
      ]
    },
    {
      "cell_type": "code",
      "execution_count": null,
      "metadata": {
        "colab": {
          "base_uri": "https://localhost:8080/"
        },
        "id": "yjiTcu13Q6_d",
        "outputId": "95b2df9e-e782-4eca-c05b-272e21911103"
      },
      "outputs": [
        {
          "name": "stderr",
          "output_type": "stream",
          "text": [
            "Extracting files: 100%|██████████| 500001/500001 [01:48<00:00, 4606.24it/s]\n"
          ]
        }
      ],
      "source": [
        "if generate_dataset:\n",
        "  file_name = 'data_1.zip'\n",
        "  if not os.path.exists(file_name):\n",
        "    wget.download('https://huggingface.co/datasets/DonkeySmall/OCR-Cyrillic-Printed-1/resolve/main/data_1.zip')\n",
        "  with zipfile.ZipFile(file_name, 'r') as zip_ref:\n",
        "    for file in tqdm(zip_ref.infolist(), desc='Extracting files'):\n",
        "        zip_ref.extract(file, 'dataset')\n",
        "else:\n",
        "   # клонируем с HF\n",
        "  wget.download('https://huggingface.co/datasets/smthrgnl/ocr_cyrillic_english/resolve/main/images.zip')\n",
        "  wget.download('https://huggingface.co/datasets/smthrgnl/ocr_cyrillic_english/resolve/main/labels.csv')\n",
        "  with zipfile.ZipFile('images.zip') as zip_ref:\n",
        "    for file in tqdm(zip_ref.infolist(), desc='Extracting files'):\n",
        "      zip_ref.extract(file, 'dataset')\n",
        "  os.remove('images.zip')\n",
        "  shutil.move('labels.csv', 'dataset/labels.csv')"
      ]
    },
    {
      "cell_type": "markdown",
      "metadata": {
        "id": "Ooq0GnoH5-DP"
      },
      "source": [
        "### Генерация датасета"
      ]
    },
    {
      "cell_type": "code",
      "execution_count": null,
      "metadata": {
        "id": "ya6taa8ZeWVP"
      },
      "outputs": [],
      "source": [
        "#русское слово (берем с HF)\n",
        "#русское cлово + знак препинания (берем с HF и добавляем знак) \".,?!:;/%\"\n",
        "#русское слово с дефисом внутри слова\n",
        "#число\n",
        "#число, разделенное точкой или дефисом (01.01.2024)\n",
        "#число + символ валюты или процент\n",
        "#слово или число в скобках, кавычках (с одной стороны или с 2х) \"()\"«»\"\n",
        "#имя (И.И.)\n",
        "#№ + числа\n",
        "#английское слово\n",
        "#электронная почта"
      ]
    },
    {
      "cell_type": "code",
      "execution_count": null,
      "metadata": {
        "id": "5esvww02v9dZ"
      },
      "outputs": [],
      "source": [
        "if not os.path.exists('arial-cyr.ttf') and generate_dataset:\n",
        "  wget.download('https://huggingface.co/datasets/smthrgnl/arial_cyrillic_font/blob/main/arial-cyr.ttf')"
      ]
    },
    {
      "cell_type": "markdown",
      "metadata": {
        "id": "FrAgeS5o2HdA"
      },
      "source": [
        "Добавляем синтетический датасет"
      ]
    },
    {
      "cell_type": "code",
      "execution_count": null,
      "metadata": {
        "id": "B_bzu6VBiTEw"
      },
      "outputs": [],
      "source": [
        "def generate_image_for_word(word, output_directory, image_name):\n",
        "\n",
        "    font_size = random.randint(50, 100)\n",
        "    padding = 20\n",
        "    vertical_padding = 30\n",
        "\n",
        "    try:\n",
        "        font = ImageFont.truetype(\"arial.ttf\", font_size)\n",
        "    except IOError:\n",
        "        try:\n",
        "            font = ImageFont.truetype(\"arialbd.ttf\", font_size)\n",
        "        except IOError:\n",
        "            font = ImageFont.load_default()\n",
        "            font.size = font_size\n",
        "\n",
        "    temp_img = Image.new('RGB', (1, 1))\n",
        "    temp_draw = ImageDraw.Draw(temp_img)\n",
        "\n",
        "    bbox = temp_draw.textbbox((0, 0), word, font=font)\n",
        "    text_width = bbox[2] - bbox[0]\n",
        "    text_height = bbox[3] - bbox[1]\n",
        "\n",
        "    ascent, descent = font.getmetrics()\n",
        "\n",
        "    img_width = text_width + 2 * padding\n",
        "    img_height = ascent + descent + vertical_padding\n",
        "\n",
        "    bg_color = (random.randint(110, 255), random.randint(110, 255), random.randint(110, 255))\n",
        "    text_color = (random.randint(0, 100), random.randint(0, 100), random.randint(0, 100))\n",
        "\n",
        "    img = Image.new('RGB', (img_width, img_height), color=bg_color)\n",
        "    d = ImageDraw.Draw(img)\n",
        "\n",
        "    text_position = (padding, (img_height - text_height) // 2 - descent // 2)\n",
        "\n",
        "    d.text(text_position, word, fill=text_color, font=font)\n",
        "\n",
        "    image_path = os.path.join(output_directory, image_name)\n",
        "    img.save(image_path, 'JPEG')"
      ]
    },
    {
      "cell_type": "code",
      "execution_count": null,
      "metadata": {
        "id": "MfCdZqsafYNY"
      },
      "outputs": [],
      "source": [
        "r = RandomWords()"
      ]
    },
    {
      "cell_type": "code",
      "execution_count": null,
      "metadata": {
        "id": "9vgkH7pD35Cp"
      },
      "outputs": [],
      "source": [
        "punctuation = \".,?!:;/\"\n",
        "currency = \"$\""
      ]
    },
    {
      "cell_type": "code",
      "execution_count": null,
      "metadata": {
        "id": "wqp6L1Q8YDun"
      },
      "outputs": [],
      "source": [
        "random.seed(42)\n",
        "\n",
        "if generate_dataset:\n",
        "\n",
        "  words_df = pd.DataFrame(columns=['filename', 'words'])\n",
        "  filenames, words = [], []\n",
        "\n",
        "  if 'images' in os.listdir('dataset'):\n",
        "    shutil.rmtree('dataset/images')\n",
        "  os.makedirs('dataset/images')\n",
        "\n",
        "  with open('./dataset/1.txt', 'r', encoding='utf-8') as labels_txt:\n",
        "\n",
        "      counter = 0\n",
        "\n",
        "      for line in tqdm(labels_txt.readlines()):\n",
        "\n",
        "        #if counter == 10:\n",
        "        #  break\n",
        "\n",
        "        rand = random.randint(1, 36)\n",
        "        splitted_line = line.split('`')\n",
        "        img_name = splitted_line[0][2:]\n",
        "        img_value = splitted_line[1][:-1] if splitted_line[1][-1] == '\\n' else splitted_line[1]\n",
        "\n",
        "        if rand in range(1, 8): #обычное слово на русском языке\n",
        "            shutil.copy(f'dataset/1/{img_name}', f'dataset/images/{img_name}')\n",
        "        else:\n",
        "          if rand in range(9, 12): #слово со знаком препинания\n",
        "            img_value = img_value + random.choice(punctuation)\n",
        "\n",
        "          elif rand in range(13, 15): #слово с дефисом\n",
        "            index = random.randint(1, len(img_value) - 2)\n",
        "            img_value = img_value[:index] + '-' + img_value[index:]\n",
        "\n",
        "          elif rand in range(16, 18): #число\n",
        "            img_value = ''.join(random.choices(string.digits, k=random.randint(1, 12)))\n",
        "\n",
        "          elif rand in range(19, 21): #число с разделителями\n",
        "            num = ''.join(random.choices(string.digits, k=random.randint(5, 12)))\n",
        "            n = random.randint(0, 1)\n",
        "            sep = '.' if n == 0 else '-'\n",
        "            index1 = random.randint(1, len(num) // 2)\n",
        "            index2 = random.randint(len(num) // 2 + 1, len(num) - 2)\n",
        "            img_value = ''.join(num[:index1]) + sep + ''.join(num[index1:index2]) + sep + ''.join(num[index2:])\n",
        "\n",
        "          elif rand in range(22, 24): #число + символ валюты, номер или процент\n",
        "            num = ''.join(random.choices(string.digits, k=random.randint(1, 6)))\n",
        "            n = random.randint(0, 2)\n",
        "            if n == 0:\n",
        "              suffix = '%'\n",
        "              img_value = num + suffix\n",
        "            elif n == 1:\n",
        "              suffix = currency\n",
        "              img_value = num + suffix\n",
        "            else:\n",
        "              img_value = '№' + num\n",
        "\n",
        "          elif rand in range(25, 27): #объект в скобках\n",
        "            n = random.randint(0, 8)\n",
        "            if n == 0:\n",
        "              img_value = '(' + img_value\n",
        "            elif n == 1:\n",
        "              img_value = img_value + ')'\n",
        "            elif n == 2:\n",
        "              img_value = '(' + img_value + ')'\n",
        "            elif n == 3:\n",
        "              img_value = '«' + img_value\n",
        "            elif n == 4:\n",
        "              img_value = img_value + '»'\n",
        "            elif n == 5:\n",
        "              img_value = '«' + img_value + '»'\n",
        "            elif n == 6:\n",
        "              img_value = '\\\"' + img_value\n",
        "            elif n == 7:\n",
        "              img_value = img_value + '\\\"'\n",
        "            elif n == 8:\n",
        "              img_value = '\\\"' + img_value + '\\\"'\n",
        "\n",
        "\n",
        "          elif rand in range(28, 29): # инициалы (2 заглавных буквы с точками)\n",
        "            img_value = '.'.join([random.choice('АБВГДЕЖЗИКЛМНОПРСТУФХЦЧШЩЭЮЯ') for _ in range(2)]) + '.'\n",
        "\n",
        "          elif rand in range(30, 34): # английское слово\n",
        "            eng_word = r.get_random_word()\n",
        "            seed = random.randint(1, 3)\n",
        "            if seed == 2:\n",
        "              eng_word = eng_word[0].upper() + eng_word[1:]\n",
        "            if seed == 3:\n",
        "              eng_word = eng_word.upper()\n",
        "            if len(eng_word) > 31:\n",
        "              eng_word = eng_word[0:31]\n",
        "            img_value = eng_word\n",
        "\n",
        "          elif rand in range(35, 36): # почтовый адрес (в рандомное место вставляем _)\n",
        "            mail = r.get_random_word()\n",
        "            if len(mail) > 13:\n",
        "              mail = mail[0:12]\n",
        "            index = random.randint(1, len(mail))\n",
        "            server = r.get_random_word()\n",
        "            if len(server) > 13:\n",
        "              server = server[0:12]\n",
        "            k = random.randint(1, 3)\n",
        "            if k == 3:\n",
        "              mail = mail[:index] + '_' + mail[index:]\n",
        "            domain = ''.join(random.choices(string.ascii_lowercase, k=random.randint(2, 3)))\n",
        "            img_value = mail + '@' + server + '.' + domain\n",
        "\n",
        "          img_name = img_name.replace('_1_', '_2_')\n",
        "          fs = random.randint(22, 45)\n",
        "          generate_image_for_word(word=img_value, image_name=img_name, output_directory='./dataset/images')\n",
        "\n",
        "          if img_value[0] == '\\\"':\n",
        "            img_value = '\\\\' + img_value\n",
        "          if img_value[-1] == '\\\"':\n",
        "            img_value = img_value[:-1] + '\\\\' + '\\\"'\n",
        "\n",
        "        filenames.append(img_name)\n",
        "        words.append(img_value)\n",
        "        counter += 1\n",
        "\n",
        "  words_df['filename'] = filenames\n",
        "  words_df['words'] = words\n",
        "  words_df.to_csv('dataset/labels.csv', sep=';', index=False, encoding='utf-8-sig')"
      ]
    },
    {
      "cell_type": "markdown",
      "metadata": {
        "id": "-hZJkLAxY3ai"
      },
      "source": [
        "Делим на тренировочную, тестовую, валидационную выборки"
      ]
    },
    {
      "cell_type": "code",
      "execution_count": null,
      "metadata": {
        "id": "2eqsUzIwYwUy"
      },
      "outputs": [],
      "source": [
        "def split_images(labels_file_path, image_folder_path, ranges):\n",
        "\n",
        "    labels_df = pd.read_csv(labels_file_path, sep=';')\n",
        "\n",
        "    for dir in ['train', 'val', 'test_']:\n",
        "        images_dir = f'./{dir}/images'\n",
        "        if os.path.exists(images_dir):\n",
        "            shutil.rmtree(images_dir)\n",
        "        os.makedirs(images_dir)\n",
        "\n",
        "    for i, (start, end) in enumerate(ranges):\n",
        "\n",
        "        start_index = start\n",
        "        end_index = end\n",
        "        if i == 0:\n",
        "            path = './train'\n",
        "        if i == 1:\n",
        "            path = './val'\n",
        "        if i == 2:\n",
        "            path = './test_'\n",
        "\n",
        "        output_file = f'{path}/labels.csv'\n",
        "        labels_part = labels_df.iloc[start:end]\n",
        "        labels_part.to_csv(output_file, sep=' ', index=False)\n",
        "        print(f'Written lines {start} to {end} to {output_file}')\n",
        "\n",
        "        # Copy the specified range of files\n",
        "        for i in tqdm(range(start_index, end_index)):\n",
        "\n",
        "            img_filename = labels_df['filename'].iloc[i]\n",
        "\n",
        "            src_file = os.path.join(image_folder_path, img_filename)\n",
        "            dest_file = os.path.join(f'{path}/images', img_filename)\n",
        "\n",
        "            # Copy the file\n",
        "            shutil.copy2(src_file, dest_file)"
      ]
    },
    {
      "cell_type": "markdown",
      "metadata": {
        "id": "eH47RSwxcQ21"
      },
      "source": [
        "Задаем размеры"
      ]
    },
    {
      "cell_type": "code",
      "execution_count": null,
      "metadata": {
        "id": "I2eoUzg3b7RU"
      },
      "outputs": [],
      "source": [
        "labels_file = './dataset/labels.csv'\n",
        "images_path = './dataset/images'\n",
        "line_ranges = [(0, 30000), (30000, 40000), (40000, 50000)] #train range, val range, test range"
      ]
    },
    {
      "cell_type": "code",
      "execution_count": null,
      "metadata": {
        "colab": {
          "base_uri": "https://localhost:8080/"
        },
        "id": "1dC3OHHfcO_7",
        "outputId": "b3a3945b-def8-4ce0-c571-90c725dfc8cb"
      },
      "outputs": [
        {
          "name": "stdout",
          "output_type": "stream",
          "text": [
            "Written lines 0 to 30000 to ./train/labels.csv\n"
          ]
        },
        {
          "name": "stderr",
          "output_type": "stream",
          "text": [
            "100%|██████████| 30000/30000 [00:25<00:00, 1165.77it/s]\n"
          ]
        },
        {
          "name": "stdout",
          "output_type": "stream",
          "text": [
            "Written lines 30000 to 40000 to ./val/labels.csv\n"
          ]
        },
        {
          "name": "stderr",
          "output_type": "stream",
          "text": [
            "100%|██████████| 10000/10000 [00:02<00:00, 3661.03it/s]\n"
          ]
        },
        {
          "name": "stdout",
          "output_type": "stream",
          "text": [
            "Written lines 40000 to 50000 to ./test_/labels.csv\n"
          ]
        },
        {
          "name": "stderr",
          "output_type": "stream",
          "text": [
            "100%|██████████| 10000/10000 [00:02<00:00, 3501.33it/s]\n"
          ]
        }
      ],
      "source": [
        "split_dataset = True\n",
        "if split_dataset:\n",
        "  split_images(labels_file, images_path, line_ranges)"
      ]
    }
  ],
  "metadata": {
    "colab": {
      "provenance": []
    },
    "kernelspec": {
      "display_name": ".venv",
      "language": "python",
      "name": "python3"
    },
    "language_info": {
      "codemirror_mode": {
        "name": "ipython",
        "version": 3
      },
      "file_extension": ".py",
      "mimetype": "text/x-python",
      "name": "python",
      "nbconvert_exporter": "python",
      "pygments_lexer": "ipython3",
      "version": "3.12.0"
    }
  },
  "nbformat": 4,
  "nbformat_minor": 0
}
